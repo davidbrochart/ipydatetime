{
 "cells": [
  {
   "cell_type": "markdown",
   "metadata": {},
   "source": [
    "# Introduction"
   ]
  },
  {
   "cell_type": "code",
   "execution_count": 1,
   "metadata": {},
   "outputs": [],
   "source": [
    "import ipydatetime\n",
    "import ipywidgets"
   ]
  },
  {
   "cell_type": "code",
   "execution_count": 2,
   "metadata": {},
   "outputs": [],
   "source": [
    "time_picker = ipydatetime.TimePicker()"
   ]
  },
  {
   "cell_type": "code",
   "execution_count": 3,
   "metadata": {},
   "outputs": [
    {
     "data": {
      "application/vnd.jupyter.widget-view+json": {
       "model_id": "35e5878d741147ff9ed452e86b419ca7",
       "version_major": 2,
       "version_minor": 0
      },
      "text/plain": [
       "TimePicker(value=None, step=60.0)"
      ]
     },
     "metadata": {},
     "output_type": "display_data"
    }
   ],
   "source": [
    "time_picker"
   ]
  },
  {
   "cell_type": "code",
   "execution_count": 4,
   "metadata": {},
   "outputs": [
    {
     "data": {
      "application/vnd.jupyter.widget-view+json": {
       "model_id": "e462296c6200490fa66e0ed3121049ce",
       "version_major": 2,
       "version_minor": 0
      },
      "text/plain": [
       "Label(value='None')"
      ]
     },
     "metadata": {},
     "output_type": "display_data"
    }
   ],
   "source": [
    "time_lbl = ipywidgets.Label()\n",
    "\n",
    "def update_time(change=None):\n",
    "    time_lbl.value = str(time_picker.value)\n",
    "\n",
    "update_time()\n",
    "time_picker.observe(update_time, names='value')\n",
    "\n",
    "time_lbl"
   ]
  },
  {
   "cell_type": "code",
   "execution_count": 5,
   "metadata": {},
   "outputs": [],
   "source": [
    "datetime_picker = ipydatetime.DatetimePicker()"
   ]
  },
  {
   "cell_type": "code",
   "execution_count": 6,
   "metadata": {},
   "outputs": [
    {
     "data": {
      "application/vnd.jupyter.widget-view+json": {
       "model_id": "69cd29f77e384bfc8940e2ea2d55860d",
       "version_major": 2,
       "version_minor": 0
      },
      "text/plain": [
       "DatetimePicker(value=None)"
      ]
     },
     "metadata": {},
     "output_type": "display_data"
    }
   ],
   "source": [
    "datetime_picker"
   ]
  },
  {
   "cell_type": "code",
   "execution_count": 7,
   "metadata": {},
   "outputs": [
    {
     "data": {
      "application/vnd.jupyter.widget-view+json": {
       "model_id": "498d55b1ab13420bb639d0530720e9de",
       "version_major": 2,
       "version_minor": 0
      },
      "text/plain": [
       "Label(value='None')"
      ]
     },
     "metadata": {},
     "output_type": "display_data"
    }
   ],
   "source": [
    "datetime_lbl = ipywidgets.Label()\n",
    "\n",
    "def update_datetime(change=None):\n",
    "    datetime_lbl.value = 'None' if datetime_picker.value is None else datetime_picker.value.isoformat()\n",
    "\n",
    "update_datetime()\n",
    "datetime_picker.observe(update_datetime, names='value')\n",
    "\n",
    "datetime_lbl"
   ]
  },
  {
   "cell_type": "code",
   "execution_count": 8,
   "metadata": {},
   "outputs": [],
   "source": [
    "from datetime import timedelta\n",
    "datetime_picker.value = datetime_picker.value + timedelta()"
   ]
  },
  {
   "cell_type": "code",
   "execution_count": null,
   "metadata": {},
   "outputs": [],
   "source": []
  }
 ],
 "metadata": {
  "kernelspec": {
   "display_name": "Python 3",
   "language": "python",
   "name": "python3"
  },
  "language_info": {
   "codemirror_mode": {
    "name": "ipython",
    "version": 3
   },
   "file_extension": ".py",
   "mimetype": "text/x-python",
   "name": "python",
   "nbconvert_exporter": "python",
   "pygments_lexer": "ipython3",
   "version": "3.7.1"
  }
 },
 "nbformat": 4,
 "nbformat_minor": 2
}
