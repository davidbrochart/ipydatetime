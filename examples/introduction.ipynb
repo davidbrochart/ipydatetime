{
 "cells": [
  {
   "cell_type": "markdown",
   "metadata": {},
   "source": [
    "# Introduction"
   ]
  },
  {
   "cell_type": "markdown",
   "metadata": {},
   "source": [
    "This package is meant to supply widgets for picking a time and a datetime, using the default HTML5 input controls. For a date-onpy input, use the one in ipywidgets core (`ipywidgets.DatePicker`)."
   ]
  },
  {
   "cell_type": "markdown",
   "metadata": {},
   "source": [
    "## The time picker\n",
    "\n",
    "To create a time picker, use the `TimerPicker` widget from `ipydatetime`:"
   ]
  },
  {
   "cell_type": "code",
   "execution_count": 1,
   "metadata": {},
   "outputs": [],
   "source": [
    "import ipydatetime\n",
    "import ipywidgets\n",
    "import datetime"
   ]
  },
  {
   "cell_type": "code",
   "execution_count": 2,
   "metadata": {},
   "outputs": [],
   "source": [
    "time_picker = ipydatetime.TimePicker()"
   ]
  },
  {
   "cell_type": "code",
   "execution_count": 3,
   "metadata": {},
   "outputs": [
    {
     "data": {
      "application/vnd.jupyter.widget-view+json": {
       "model_id": "03d7a7fd742e412189b6f11574dd9640",
       "version_major": 2,
       "version_minor": 0
      },
      "text/plain": [
       "TimePicker(value=None, step=60.0)"
      ]
     },
     "metadata": {},
     "output_type": "display_data"
    }
   ],
   "source": [
    "time_picker"
   ]
  },
  {
   "cell_type": "markdown",
   "metadata": {},
   "source": [
    "Here is a label showing how the kernel will format this value. Note that if the locale setting of the browser and kernel are different, the formatting of the time might also differ:"
   ]
  },
  {
   "cell_type": "code",
   "execution_count": 4,
   "metadata": {},
   "outputs": [
    {
     "data": {
      "application/vnd.jupyter.widget-view+json": {
       "model_id": "833d25336d9348a5ab0e6594c16dbf45",
       "version_major": 2,
       "version_minor": 0
      },
      "text/plain": [
       "Label(value='None')"
      ]
     },
     "metadata": {},
     "output_type": "display_data"
    }
   ],
   "source": [
    "time_lbl = ipywidgets.Label()\n",
    "\n",
    "def update_time(change=None):\n",
    "    time_lbl.value = str(time_picker.value)\n",
    "\n",
    "update_time()\n",
    "time_picker.observe(update_time, names='value')\n",
    "\n",
    "time_lbl"
   ]
  },
  {
   "cell_type": "markdown",
   "metadata": {},
   "source": [
    "By default, the browser only shows hours/minutes. To input seconds and optionally milliseconds, either give an initial value with non-zero seconds (milliseconds), or specify a smaller `step` attribute. "
   ]
  },
  {
   "cell_type": "code",
   "execution_count": 5,
   "metadata": {},
   "outputs": [
    {
     "data": {
      "application/vnd.jupyter.widget-view+json": {
       "model_id": "dadaf5b6eeef4c8089ef8d319c57b571",
       "version_major": 2,
       "version_minor": 0
      },
      "text/plain": [
       "TimePicker(value=datetime.time(23, 15, 32), step=1.0)"
      ]
     },
     "metadata": {},
     "output_type": "display_data"
    }
   ],
   "source": [
    "ipydatetime.TimePicker(value=datetime.time(23, 15, 32), step=1)"
   ]
  },
  {
   "cell_type": "code",
   "execution_count": 6,
   "metadata": {},
   "outputs": [
    {
     "data": {
      "application/vnd.jupyter.widget-view+json": {
       "model_id": "72f2bec665914222a2af66855c008e1c",
       "version_major": 2,
       "version_minor": 0
      },
      "text/plain": [
       "TimePicker(value=datetime.time(23, 15, 32, 7000), step=0.001)"
      ]
     },
     "metadata": {},
     "output_type": "display_data"
    }
   ],
   "source": [
    "ipydatetime.TimePicker(value=datetime.time(23, 15, 32, 7000), step=0.001)"
   ]
  },
  {
   "cell_type": "code",
   "execution_count": 7,
   "metadata": {},
   "outputs": [
    {
     "data": {
      "application/vnd.jupyter.widget-view+json": {
       "model_id": "103ebff1b97c4df28a71edf8d5b80998",
       "version_major": 2,
       "version_minor": 0
      },
      "text/plain": [
       "TimePicker(value=datetime.time(23, 15), step=5.0)"
      ]
     },
     "metadata": {},
     "output_type": "display_data"
    }
   ],
   "source": [
    "ipydatetime.TimePicker(value=datetime.time(23, 15), step=5)"
   ]
  },
  {
   "cell_type": "code",
   "execution_count": 8,
   "metadata": {},
   "outputs": [
    {
     "data": {
      "application/vnd.jupyter.widget-view+json": {
       "model_id": "bdc79a37a5bc40a7820f7952f33ef532",
       "version_major": 2,
       "version_minor": 0
      },
      "text/plain": [
       "TimePicker(value=datetime.time(23, 15), step=0.1)"
      ]
     },
     "metadata": {},
     "output_type": "display_data"
    }
   ],
   "source": [
    "ipydatetime.TimePicker(value=datetime.time(23, 15), step=0.1)"
   ]
  },
  {
   "cell_type": "markdown",
   "metadata": {},
   "source": [
    "## The datetime picker\n",
    "\n",
    "To create a datetime picker, use the `DatetimePicker` widget from `ipydatetime`:"
   ]
  },
  {
   "cell_type": "code",
   "execution_count": 9,
   "metadata": {},
   "outputs": [],
   "source": [
    "datetime_picker = ipydatetime.DatetimePicker()"
   ]
  },
  {
   "cell_type": "code",
   "execution_count": 10,
   "metadata": {},
   "outputs": [
    {
     "data": {
      "application/vnd.jupyter.widget-view+json": {
       "model_id": "eeee9c910aab41dc89022a9a85016bbd",
       "version_major": 2,
       "version_minor": 0
      },
      "text/plain": [
       "DatetimePicker(value=None)"
      ]
     },
     "metadata": {},
     "output_type": "display_data"
    }
   ],
   "source": [
    "datetime_picker"
   ]
  },
  {
   "cell_type": "markdown",
   "metadata": {},
   "source": [
    "Here is a label showing how the kernel will format this value. As for the `TimePicker`, if the locale setting of the browser and kernel are different, the formatting of the datetime might also differ."
   ]
  },
  {
   "cell_type": "code",
   "execution_count": 11,
   "metadata": {},
   "outputs": [
    {
     "data": {
      "application/vnd.jupyter.widget-view+json": {
       "model_id": "a21839fc621d4aa297489037ff25c255",
       "version_major": 2,
       "version_minor": 0
      },
      "text/plain": [
       "Label(value='None')"
      ]
     },
     "metadata": {},
     "output_type": "display_data"
    }
   ],
   "source": [
    "datetime_lbl = ipywidgets.Label()\n",
    "\n",
    "def update_datetime(change=None):\n",
    "    if datetime_picker.value is None:\n",
    "        datetime_lbl.value = 'None'\n",
    "    else:\n",
    "        # Present it using kernel system timezone:\n",
    "        datetime_lbl.value = str(datetime_picker.value)\n",
    "\n",
    "update_datetime()\n",
    "datetime_picker.observe(update_datetime, names='value')\n",
    "\n",
    "datetime_lbl"
   ]
  },
  {
   "cell_type": "markdown",
   "metadata": {},
   "source": [
    "### Time zones\n",
    "\n",
    "There are two points worth to note with regards to timezones:\n",
    "- The browser always picks datetimes using *its* timezone.\n",
    "- The kernel always gets the datetimes in the default system timezone of the kernel (see https://docs.python.org/3/library/datetime.html#datetime.datetime.astimezone with `None` as the argument).\n",
    "\n",
    "This means that if the kernel and browser have different timezones, the default formatting of the timezones might differ (though they will represent the same point in time)."
   ]
  },
  {
   "cell_type": "code",
   "execution_count": null,
   "metadata": {},
   "outputs": [],
   "source": []
  }
 ],
 "metadata": {
  "kernelspec": {
   "display_name": "Python 3",
   "language": "python",
   "name": "python3"
  },
  "language_info": {
   "codemirror_mode": {
    "name": "ipython",
    "version": 3
   },
   "file_extension": ".py",
   "mimetype": "text/x-python",
   "name": "python",
   "nbconvert_exporter": "python",
   "pygments_lexer": "ipython3",
   "version": "3.7.3"
  },
  "widgets": {
   "application/vnd.jupyter.widget-state+json": {
    "state": {
     "016380861561461db238a28d47e5abd0": {
      "model_module": "@jupyter-widgets/controls",
      "model_module_version": "1.5.0",
      "model_name": "DescriptionStyleModel",
      "state": {
       "description_width": ""
      }
     },
     "03d7a7fd742e412189b6f11574dd9640": {
      "model_module": "jupyter-widget-datetime",
      "model_module_version": "^0.1.0",
      "model_name": "TimeModel",
      "state": {
       "_model_module_version": "^0.1.0",
       "_view_module_version": "^0.1.0",
       "layout": "IPY_MODEL_a6e1787fa90d4a308453eca46ecb338f",
       "style": "IPY_MODEL_22f9823b5d214e718ce35abe6296192d"
      }
     },
     "05ae85d727934f909392c83793c2d306": {
      "model_module": "@jupyter-widgets/base",
      "model_module_version": "1.2.0",
      "model_name": "LayoutModel",
      "state": {}
     },
     "103ebff1b97c4df28a71edf8d5b80998": {
      "model_module": "jupyter-widget-datetime",
      "model_module_version": "^0.1.0",
      "model_name": "TimeModel",
      "state": {
       "_model_module_version": "^0.1.0",
       "_view_module_version": "^0.1.0",
       "layout": "IPY_MODEL_e9e703f1928540c580f6ccdbeb2e7499",
       "step": 5,
       "style": "IPY_MODEL_2b0dfbab41f44302950063c1a1f2c46c",
       "value": {
        "hours": 23,
        "milliseconds": 0,
        "minutes": 15,
        "seconds": 0
       }
      }
     },
     "153b4e9afaf9462f9d288e281f94a245": {
      "model_module": "@jupyter-widgets/base",
      "model_module_version": "1.2.0",
      "model_name": "LayoutModel",
      "state": {}
     },
     "22f9823b5d214e718ce35abe6296192d": {
      "model_module": "@jupyter-widgets/controls",
      "model_module_version": "1.5.0",
      "model_name": "DescriptionStyleModel",
      "state": {
       "description_width": ""
      }
     },
     "2b0dfbab41f44302950063c1a1f2c46c": {
      "model_module": "@jupyter-widgets/controls",
      "model_module_version": "1.5.0",
      "model_name": "DescriptionStyleModel",
      "state": {
       "description_width": ""
      }
     },
     "4f8962e10dd5436299f9a8b3071c23e2": {
      "model_module": "@jupyter-widgets/controls",
      "model_module_version": "1.5.0",
      "model_name": "DescriptionStyleModel",
      "state": {
       "description_width": ""
      }
     },
     "5742cc559b4b43248c042fc4969c8835": {
      "model_module": "@jupyter-widgets/controls",
      "model_module_version": "1.5.0",
      "model_name": "DescriptionStyleModel",
      "state": {
       "description_width": ""
      }
     },
     "6a18ef2d1c2c49818b76bbf113584599": {
      "model_module": "@jupyter-widgets/controls",
      "model_module_version": "1.5.0",
      "model_name": "DescriptionStyleModel",
      "state": {
       "description_width": ""
      }
     },
     "72f2bec665914222a2af66855c008e1c": {
      "model_module": "jupyter-widget-datetime",
      "model_module_version": "^0.1.0",
      "model_name": "TimeModel",
      "state": {
       "_model_module_version": "^0.1.0",
       "_view_module_version": "^0.1.0",
       "layout": "IPY_MODEL_abd76b2d9edf4234b6264e829dc7fdd1",
       "step": 0.001,
       "style": "IPY_MODEL_6a18ef2d1c2c49818b76bbf113584599",
       "value": {
        "hours": 23,
        "milliseconds": 7,
        "minutes": 15,
        "seconds": 32
       }
      }
     },
     "833d25336d9348a5ab0e6594c16dbf45": {
      "model_module": "@jupyter-widgets/controls",
      "model_module_version": "1.5.0",
      "model_name": "LabelModel",
      "state": {
       "layout": "IPY_MODEL_e4f68f7ec27c4ee69e31636eb31174ad",
       "style": "IPY_MODEL_5742cc559b4b43248c042fc4969c8835",
       "value": "None"
      }
     },
     "9402fc79377d45539136d13002775fc3": {
      "model_module": "@jupyter-widgets/base",
      "model_module_version": "1.2.0",
      "model_name": "LayoutModel",
      "state": {}
     },
     "a21839fc621d4aa297489037ff25c255": {
      "model_module": "@jupyter-widgets/controls",
      "model_module_version": "1.5.0",
      "model_name": "LabelModel",
      "state": {
       "layout": "IPY_MODEL_ccce433934694d4aa4bc939d74669005",
       "style": "IPY_MODEL_016380861561461db238a28d47e5abd0",
       "value": "None"
      }
     },
     "a6e1787fa90d4a308453eca46ecb338f": {
      "model_module": "@jupyter-widgets/base",
      "model_module_version": "1.2.0",
      "model_name": "LayoutModel",
      "state": {}
     },
     "abd76b2d9edf4234b6264e829dc7fdd1": {
      "model_module": "@jupyter-widgets/base",
      "model_module_version": "1.2.0",
      "model_name": "LayoutModel",
      "state": {}
     },
     "bdc79a37a5bc40a7820f7952f33ef532": {
      "model_module": "jupyter-widget-datetime",
      "model_module_version": "^0.1.0",
      "model_name": "TimeModel",
      "state": {
       "_model_module_version": "^0.1.0",
       "_view_module_version": "^0.1.0",
       "layout": "IPY_MODEL_9402fc79377d45539136d13002775fc3",
       "step": 0.1,
       "style": "IPY_MODEL_f37b5da055fd46eaa623461cac033f07",
       "value": {
        "hours": 23,
        "milliseconds": 0,
        "minutes": 15,
        "seconds": 0
       }
      }
     },
     "ccce433934694d4aa4bc939d74669005": {
      "model_module": "@jupyter-widgets/base",
      "model_module_version": "1.2.0",
      "model_name": "LayoutModel",
      "state": {}
     },
     "dadaf5b6eeef4c8089ef8d319c57b571": {
      "model_module": "jupyter-widget-datetime",
      "model_module_version": "^0.1.0",
      "model_name": "TimeModel",
      "state": {
       "_model_module_version": "^0.1.0",
       "_view_module_version": "^0.1.0",
       "layout": "IPY_MODEL_05ae85d727934f909392c83793c2d306",
       "step": 1,
       "style": "IPY_MODEL_4f8962e10dd5436299f9a8b3071c23e2",
       "value": {
        "hours": 23,
        "milliseconds": 0,
        "minutes": 15,
        "seconds": 32
       }
      }
     },
     "e4f68f7ec27c4ee69e31636eb31174ad": {
      "model_module": "@jupyter-widgets/base",
      "model_module_version": "1.2.0",
      "model_name": "LayoutModel",
      "state": {}
     },
     "e9e703f1928540c580f6ccdbeb2e7499": {
      "model_module": "@jupyter-widgets/base",
      "model_module_version": "1.2.0",
      "model_name": "LayoutModel",
      "state": {}
     },
     "eeee9c910aab41dc89022a9a85016bbd": {
      "model_module": "jupyter-widget-datetime",
      "model_module_version": "^0.1.0",
      "model_name": "DatetimeModel",
      "state": {
       "_model_module_version": "^0.1.0",
       "_model_name": "DatetimeModel",
       "_view_module_version": "^0.1.0",
       "_view_name": "DatetimeView",
       "layout": "IPY_MODEL_153b4e9afaf9462f9d288e281f94a245",
       "style": "IPY_MODEL_fa7f106de7d04217b7072d54a99d0df2"
      }
     },
     "f37b5da055fd46eaa623461cac033f07": {
      "model_module": "@jupyter-widgets/controls",
      "model_module_version": "1.5.0",
      "model_name": "DescriptionStyleModel",
      "state": {
       "description_width": ""
      }
     },
     "fa7f106de7d04217b7072d54a99d0df2": {
      "model_module": "@jupyter-widgets/controls",
      "model_module_version": "1.5.0",
      "model_name": "DescriptionStyleModel",
      "state": {
       "description_width": ""
      }
     }
    },
    "version_major": 2,
    "version_minor": 0
   }
  }
 },
 "nbformat": 4,
 "nbformat_minor": 2
}
